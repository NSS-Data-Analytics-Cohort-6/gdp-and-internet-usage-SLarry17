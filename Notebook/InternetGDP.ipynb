{
 "cells": [
  {
   "cell_type": "code",
   "execution_count": 1,
   "id": "856d8bb2",
   "metadata": {},
   "outputs": [
    {
     "ename": "SyntaxError",
     "evalue": "invalid syntax (2817710978.py, line 1)",
     "output_type": "error",
     "traceback": [
      "\u001b[0;36m  File \u001b[0;32m\"/var/folders/wx/t3hb74990bl9n9h1pn3tpmxw0000gn/T/ipykernel_11477/2817710978.py\"\u001b[0;36m, line \u001b[0;32m1\u001b[0m\n\u001b[0;31m    QUESTIONS 1 - 9 BELOW\u001b[0m\n\u001b[0m              ^\u001b[0m\n\u001b[0;31mSyntaxError\u001b[0m\u001b[0;31m:\u001b[0m invalid syntax\n"
     ]
    }
   ],
   "source": [
    "QUESTIONS 1 - 9 BELOW"
   ]
  },
  {
   "cell_type": "code",
   "execution_count": null,
   "id": "fb80a9e2",
   "metadata": {},
   "outputs": [],
   "source": [
    "import pandas as pd\n",
    "import numpy as np\n",
    "import matplotlib.pyplot as plt\n",
    "import seaborn as sns"
   ]
  },
  {
   "cell_type": "code",
   "execution_count": null,
   "id": "dde834d4",
   "metadata": {},
   "outputs": [],
   "source": [
    "%matplotlib inline"
   ]
  },
  {
   "cell_type": "code",
   "execution_count": null,
   "id": "b1cc500b",
   "metadata": {},
   "outputs": [],
   "source": [
    "gdp_df = pd.read_csv(\"../data/gdp_percapita.csv\")"
   ]
  },
  {
   "cell_type": "code",
   "execution_count": null,
   "id": "fe330d50",
   "metadata": {},
   "outputs": [],
   "source": [
    "internet_df = pd.read_csv(\"../data/internet_use.csv\", nrows=4496)"
   ]
  },
  {
   "cell_type": "code",
   "execution_count": null,
   "id": "9aca4d4b",
   "metadata": {},
   "outputs": [],
   "source": [
    "gdp_df.head(6)\n"
   ]
  },
  {
   "cell_type": "code",
   "execution_count": null,
   "id": "155a4f72",
   "metadata": {},
   "outputs": [],
   "source": [
    "internet_df.head(6)"
   ]
  },
  {
   "cell_type": "code",
   "execution_count": null,
   "id": "824f7d54",
   "metadata": {},
   "outputs": [],
   "source": [
    "gdp_df.head(10)"
   ]
  },
  {
   "cell_type": "code",
   "execution_count": null,
   "id": "3fe8be47",
   "metadata": {},
   "outputs": [],
   "source": [
    "internet_df.head(10)"
   ]
  },
  {
   "cell_type": "code",
   "execution_count": null,
   "id": "02ec38aa",
   "metadata": {},
   "outputs": [],
   "source": [
    "Question 10 is below"
   ]
  },
  {
   "cell_type": "code",
   "execution_count": null,
   "id": "ffac4bfa",
   "metadata": {},
   "outputs": [],
   "source": [
    "df.drop(['Value Footnotes'])"
   ]
  },
  {
   "cell_type": "code",
   "execution_count": null,
   "id": "a936432d",
   "metadata": {},
   "outputs": [],
   "source": [
    "gdp_df = gdp_df.drop(columns=['Value Footnotes'])"
   ]
  },
  {
   "cell_type": "code",
   "execution_count": null,
   "id": "d510ce23",
   "metadata": {},
   "outputs": [],
   "source": [
    "gdp_df = gdp_df.drop(columns=['Value Footnotes'])"
   ]
  },
  {
   "cell_type": "code",
   "execution_count": null,
   "id": "81ebcacf",
   "metadata": {},
   "outputs": [],
   "source": [
    "gdp_df = gdp_df.drop(columns=['Value Footnotes'])"
   ]
  },
  {
   "cell_type": "code",
   "execution_count": null,
   "id": "896a3da7",
   "metadata": {},
   "outputs": [],
   "source": [
    "gdp_df = gdp_df.drop(columns=['Country or Area': 'Country', 'Year': 'Year', 'Value': 'GDP_Per_Capita'])"
   ]
  },
  {
   "cell_type": "code",
   "execution_count": null,
   "id": "8b63df03",
   "metadata": {},
   "outputs": [],
   "source": [
    "gdp_df = gdp_df.rename(columns=['Country or Area': 'Country', 'Year': 'Year', 'Value': 'GDP_Per_Capita'])"
   ]
  },
  {
   "cell_type": "code",
   "execution_count": null,
   "id": "1aba5313",
   "metadata": {},
   "outputs": [],
   "source": [
    "QUESTION 11 is below"
   ]
  },
  {
   "cell_type": "code",
   "execution_count": null,
   "id": "b8300578",
   "metadata": {},
   "outputs": [],
   "source": [
    "gdp_df = gdp_df.rename(columns={'Country or Area': 'Country', 'Year': 'Year', 'Value': 'GDP_Per_Capita'})"
   ]
  },
  {
   "cell_type": "code",
   "execution_count": null,
   "id": "776fe78c",
   "metadata": {},
   "outputs": [],
   "source": [
    "QUESTION 12 is below"
   ]
  },
  {
   "cell_type": "code",
   "execution_count": null,
   "id": "a0364a43",
   "metadata": {},
   "outputs": [],
   "source": [
    "internet_df = internet_df.rename(columns={'Country or Area': 'Country', 'Year': 'Year', 'Value': 'Internet_Users_Pct'})"
   ]
  },
  {
   "cell_type": "code",
   "execution_count": null,
   "id": "bd9114b7",
   "metadata": {},
   "outputs": [],
   "source": [
    "gdp_df.info()"
   ]
  },
  {
   "cell_type": "code",
   "execution_count": null,
   "id": "3eb3d870",
   "metadata": {},
   "outputs": [],
   "source": [
    "QUESTION 13 is below"
   ]
  },
  {
   "cell_type": "code",
   "execution_count": null,
   "id": "0a77de61",
   "metadata": {},
   "outputs": [],
   "source": [
    "gdp_and_internet_use = pd.merge(gdp_df,internet_df, on=['Country', 'Year'],how='left')\n"
   ]
  },
  {
   "cell_type": "code",
   "execution_count": null,
   "id": "5e5d9dbf",
   "metadata": {},
   "outputs": [],
   "source": [
    "Question 14"
   ]
  },
  {
   "cell_type": "code",
   "execution_count": null,
   "id": "8af31555",
   "metadata": {},
   "outputs": [],
   "source": [
    "print(gdp_and_internet_use.head(5)"
   ]
  },
  {
   "cell_type": "code",
   "execution_count": null,
   "id": "fd95b39e",
   "metadata": {},
   "outputs": [],
   "source": [
    "Question 15"
   ]
  },
  {
   "cell_type": "code",
   "execution_count": 2,
   "id": "5f97950e",
   "metadata": {},
   "outputs": [
    {
     "ename": "NameError",
     "evalue": "name 'gdp_and_internet_use' is not defined",
     "output_type": "error",
     "traceback": [
      "\u001b[0;31m---------------------------------------------------------------------------\u001b[0m",
      "\u001b[0;31mNameError\u001b[0m                                 Traceback (most recent call last)",
      "\u001b[0;32m/var/folders/wx/t3hb74990bl9n9h1pn3tpmxw0000gn/T/ipykernel_11477/2575377076.py\u001b[0m in \u001b[0;36m<module>\u001b[0;34m\u001b[0m\n\u001b[0;32m----> 1\u001b[0;31m \u001b[0mgdp_and_internet_use\u001b[0m\u001b[0;34m.\u001b[0m\u001b[0mtail\u001b[0m\u001b[0;34m(\u001b[0m\u001b[0;34m)\u001b[0m\u001b[0;34m\u001b[0m\u001b[0;34m\u001b[0m\u001b[0m\n\u001b[0m",
      "\u001b[0;31mNameError\u001b[0m: name 'gdp_and_internet_use' is not defined"
     ]
    }
   ],
   "source": [
    "gdp_and_internet_use.tail()"
   ]
  },
  {
   "cell_type": "code",
   "execution_count": null,
   "id": "6cde7942",
   "metadata": {},
   "outputs": [],
   "source": [
    "Question 16"
   ]
  },
  {
   "cell_type": "code",
   "execution_count": null,
   "id": "9a8b862c",
   "metadata": {},
   "outputs": [],
   "source": [
    "array = ['2004', '2009', '2014']\n",
    "print(gdp_and_internet_use.loc[gdp_and_internet_use['Year'].isin(array)])"
   ]
  },
  {
   "cell_type": "code",
   "execution_count": null,
   "id": "3fa16dcb",
   "metadata": {},
   "outputs": [],
   "source": [
    "Question 17"
   ]
  },
  {
   "cell_type": "code",
   "execution_count": null,
   "id": "36974195",
   "metadata": {},
   "outputs": [],
   "source": [
    "gdp_internet_04 = gdp_and_internet_use[gdp_and_internet_use['Year'] =='2004']\n",
    "gdp_internet_09 = gdp_and_internet_use[gdp_and_internet_use['Year'] =='2009']\n",
    "gdp_internet_14 = gdp_and_internet_use[gdp_and_internet_use['Year'] =='2014']"
   ]
  },
  {
   "cell_type": "code",
   "execution_count": null,
   "id": "3dc28a32",
   "metadata": {},
   "outputs": [],
   "source": [
    "print(gdp_internet_04)\n",
    "print(gdp_internet_09)\n",
    "print(gdp_internet_14)\n"
   ]
  },
  {
   "cell_type": "code",
   "execution_count": null,
   "id": "bebbc538",
   "metadata": {},
   "outputs": [],
   "source": [
    "Question 18 \n"
   ]
  },
  {
   "cell_type": "code",
   "execution_count": null,
   "id": "eaa46c80",
   "metadata": {},
   "outputs": [],
   "source": [
    "Question 19\n"
   ]
  },
  {
   "cell_type": "code",
   "execution_count": null,
   "id": "276a3757",
   "metadata": {},
   "outputs": [],
   "source": [
    "gdp_internet_14.sort_values(by='Internet_USers_Pct', ascending=True)"
   ]
  },
  {
   "cell_type": "code",
   "execution_count": 3,
   "id": "7f4dedc1",
   "metadata": {},
   "outputs": [
    {
     "ename": "SyntaxError",
     "evalue": "invalid syntax (3601632995.py, line 1)",
     "output_type": "error",
     "traceback": [
      "\u001b[0;36m  File \u001b[0;32m\"/var/folders/wx/t3hb74990bl9n9h1pn3tpmxw0000gn/T/ipykernel_11477/3601632995.py\"\u001b[0;36m, line \u001b[0;32m1\u001b[0m\n\u001b[0;31m    Question 20\u001b[0m\n\u001b[0m             ^\u001b[0m\n\u001b[0;31mSyntaxError\u001b[0m\u001b[0;31m:\u001b[0m invalid syntax\n"
     ]
    }
   ],
   "source": [
    "Question 20"
   ]
  },
  {
   "cell_type": "code",
   "execution_count": 4,
   "id": "10320789",
   "metadata": {},
   "outputs": [
    {
     "ename": "NameError",
     "evalue": "name 'gdp_internet_04' is not defined",
     "output_type": "error",
     "traceback": [
      "\u001b[0;31m---------------------------------------------------------------------------\u001b[0m",
      "\u001b[0;31mNameError\u001b[0m                                 Traceback (most recent call last)",
      "\u001b[0;32m/var/folders/wx/t3hb74990bl9n9h1pn3tpmxw0000gn/T/ipykernel_11477/1733279313.py\u001b[0m in \u001b[0;36m<module>\u001b[0;34m\u001b[0m\n\u001b[0;32m----> 1\u001b[0;31m \u001b[0mgdp_internet_04\u001b[0m\u001b[0;34m.\u001b[0m\u001b[0msort_values\u001b[0m\u001b[0;34m(\u001b[0m\u001b[0mby\u001b[0m\u001b[0;34m=\u001b[0m\u001b[0;34m'Internet_Users_Pct'\u001b[0m\u001b[0;34m,\u001b[0m \u001b[0mascending\u001b[0m\u001b[0;34m=\u001b[0m\u001b[0;32mTrue\u001b[0m\u001b[0;34m)\u001b[0m\u001b[0;34m\u001b[0m\u001b[0;34m\u001b[0m\u001b[0m\n\u001b[0m",
      "\u001b[0;31mNameError\u001b[0m: name 'gdp_internet_04' is not defined"
     ]
    }
   ],
   "source": [
    "gdp_internet_04.sort_values(by='Internet_Users_Pct', ascending=True)"
   ]
  },
  {
   "cell_type": "code",
   "execution_count": null,
   "id": "8b18cde6",
   "metadata": {},
   "outputs": [],
   "source": []
  }
 ],
 "metadata": {
  "kernelspec": {
   "display_name": "Python 3 (ipykernel)",
   "language": "python",
   "name": "python3"
  },
  "language_info": {
   "codemirror_mode": {
    "name": "ipython",
    "version": 3
   },
   "file_extension": ".py",
   "mimetype": "text/x-python",
   "name": "python",
   "nbconvert_exporter": "python",
   "pygments_lexer": "ipython3",
   "version": "3.9.7"
  }
 },
 "nbformat": 4,
 "nbformat_minor": 5
}
