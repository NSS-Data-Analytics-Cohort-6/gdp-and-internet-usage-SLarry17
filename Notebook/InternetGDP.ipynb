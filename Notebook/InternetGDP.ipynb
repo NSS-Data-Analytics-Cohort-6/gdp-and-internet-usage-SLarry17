{
 "cells": [
  {
   "cell_type": "code",
   "execution_count": 1,
   "id": "856d8bb2",
   "metadata": {},
   "outputs": [
    {
     "ename": "SyntaxError",
     "evalue": "invalid syntax (2817710978.py, line 1)",
     "output_type": "error",
     "traceback": [
      "\u001b[0;36m  File \u001b[0;32m\"/var/folders/wx/t3hb74990bl9n9h1pn3tpmxw0000gn/T/ipykernel_10853/2817710978.py\"\u001b[0;36m, line \u001b[0;32m1\u001b[0m\n\u001b[0;31m    QUESTIONS 1 - 9 BELOW\u001b[0m\n\u001b[0m              ^\u001b[0m\n\u001b[0;31mSyntaxError\u001b[0m\u001b[0;31m:\u001b[0m invalid syntax\n"
     ]
    }
   ],
   "source": [
    "QUESTIONS 1 - 9 BELOW"
   ]
  },
  {
   "cell_type": "code",
   "execution_count": null,
   "id": "fb80a9e2",
   "metadata": {},
   "outputs": [],
   "source": [
    "import pandas as pd\n",
    "import numpy as np\n",
    "import matplotlib.pyplot as plt\n",
    "import seaborn as sns"
   ]
  },
  {
   "cell_type": "code",
   "execution_count": null,
   "id": "dde834d4",
   "metadata": {},
   "outputs": [],
   "source": [
    "%matplotlib inline"
   ]
  },
  {
   "cell_type": "code",
   "execution_count": null,
   "id": "b1cc500b",
   "metadata": {},
   "outputs": [],
   "source": [
    "gdp_df = pd.read_csv(\"../data/gdp_percapita.csv\")"
   ]
  },
  {
   "cell_type": "code",
   "execution_count": null,
   "id": "fe330d50",
   "metadata": {},
   "outputs": [],
   "source": [
    "internet_df = pd.read_csv(\"../data/internet_use.csv\", nrows=4496)"
   ]
  },
  {
   "cell_type": "code",
   "execution_count": null,
   "id": "9aca4d4b",
   "metadata": {},
   "outputs": [],
   "source": [
    "gdp_df.head(6)\n"
   ]
  },
  {
   "cell_type": "code",
   "execution_count": null,
   "id": "155a4f72",
   "metadata": {},
   "outputs": [],
   "source": [
    "internet_df.head(6)"
   ]
  },
  {
   "cell_type": "code",
   "execution_count": null,
   "id": "824f7d54",
   "metadata": {},
   "outputs": [],
   "source": [
    "gdp_df.head(10)"
   ]
  },
  {
   "cell_type": "code",
   "execution_count": null,
   "id": "3fe8be47",
   "metadata": {},
   "outputs": [],
   "source": [
    "internet_df.head(10)"
   ]
  },
  {
   "cell_type": "code",
   "execution_count": null,
   "id": "02ec38aa",
   "metadata": {},
   "outputs": [],
   "source": [
    "Question 10 is below"
   ]
  },
  {
   "cell_type": "code",
   "execution_count": null,
   "id": "ffac4bfa",
   "metadata": {},
   "outputs": [],
   "source": [
    "df.drop(['Value Footnotes'])"
   ]
  },
  {
   "cell_type": "code",
   "execution_count": null,
   "id": "a936432d",
   "metadata": {},
   "outputs": [],
   "source": [
    "gdp_df = gdp_df.drop(columns=['Value Footnotes'])"
   ]
  },
  {
   "cell_type": "code",
   "execution_count": null,
   "id": "d510ce23",
   "metadata": {},
   "outputs": [],
   "source": [
    "gdp_df = gdp_df.drop(columns=['Value Footnotes'])"
   ]
  },
  {
   "cell_type": "code",
   "execution_count": null,
   "id": "81ebcacf",
   "metadata": {},
   "outputs": [],
   "source": [
    "gdp_df = gdp_df.drop(columns=['Value Footnotes'])"
   ]
  },
  {
   "cell_type": "code",
   "execution_count": null,
   "id": "896a3da7",
   "metadata": {},
   "outputs": [],
   "source": [
    "gdp_df = gdp_df.drop(columns=['Country or Area': 'Country', 'Year': 'Year', 'Value': 'GDP_Per_Capita'])"
   ]
  },
  {
   "cell_type": "code",
   "execution_count": null,
   "id": "8b63df03",
   "metadata": {},
   "outputs": [],
   "source": [
    "gdp_df = gdp_df.rename(columns=['Country or Area': 'Country', 'Year': 'Year', 'Value': 'GDP_Per_Capita'])"
   ]
  },
  {
   "cell_type": "code",
   "execution_count": null,
   "id": "1aba5313",
   "metadata": {},
   "outputs": [],
   "source": [
    "QUESTION 11 is below"
   ]
  },
  {
   "cell_type": "code",
   "execution_count": null,
   "id": "b8300578",
   "metadata": {},
   "outputs": [],
   "source": [
    "gdp_df = gdp_df.rename(columns={'Country or Area': 'Country', 'Year': 'Year', 'Value': 'GDP_Per_Capita'})"
   ]
  },
  {
   "cell_type": "code",
   "execution_count": null,
   "id": "776fe78c",
   "metadata": {},
   "outputs": [],
   "source": [
    "QUESTION 12 is below"
   ]
  },
  {
   "cell_type": "code",
   "execution_count": null,
   "id": "a0364a43",
   "metadata": {},
   "outputs": [],
   "source": [
    "internet_df = internet_df.rename(columns={'Country or Area': 'Country', 'Year': 'Year', 'Value': 'Internet_Users_Pct'})"
   ]
  },
  {
   "cell_type": "code",
   "execution_count": null,
   "id": "bd9114b7",
   "metadata": {},
   "outputs": [],
   "source": [
    "gdp_df.info()"
   ]
  },
  {
   "cell_type": "code",
   "execution_count": null,
   "id": "3eb3d870",
   "metadata": {},
   "outputs": [],
   "source": [
    "QUESTION 13 is below"
   ]
  },
  {
   "cell_type": "code",
   "execution_count": null,
   "id": "0a77de61",
   "metadata": {},
   "outputs": [],
   "source": [
    "gdp_and_internet_use = pd.merge(gdp_df,internet_df, on=['Country', 'Year'],how='left')\n"
   ]
  },
  {
   "cell_type": "code",
   "execution_count": null,
   "id": "8bdf8527",
   "metadata": {},
   "outputs": [],
   "source": [
    "Question 14"
   ]
  },
  {
   "cell_type": "code",
   "execution_count": null,
   "id": "c17202a8",
   "metadata": {},
   "outputs": [],
   "source": [
    "print(gdp_and_internet_use.head(5)"
   ]
  },
  {
   "cell_type": "code",
   "execution_count": null,
   "id": "28dec7d2",
   "metadata": {},
   "outputs": [],
   "source": [
    "Question 15"
   ]
  },
  {
   "cell_type": "code",
   "execution_count": null,
   "id": "effd17b0",
   "metadata": {},
   "outputs": [],
   "source": []
  }
 ],
 "metadata": {
  "kernelspec": {
   "display_name": "Python 3 (ipykernel)",
   "language": "python",
   "name": "python3"
  },
  "language_info": {
   "codemirror_mode": {
    "name": "ipython",
    "version": 3
   },
   "file_extension": ".py",
   "mimetype": "text/x-python",
   "name": "python",
   "nbconvert_exporter": "python",
   "pygments_lexer": "ipython3",
   "version": "3.9.7"
  }
 },
 "nbformat": 4,
 "nbformat_minor": 5
}
